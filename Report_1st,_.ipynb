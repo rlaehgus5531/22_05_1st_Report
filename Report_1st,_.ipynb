{
  "nbformat": 4,
  "nbformat_minor": 0,
  "metadata": {
    "colab": {
      "provenance": [],
      "toc_visible": true,
      "authorship_tag": "ABX9TyM/U3Hs2cNV9IUha4dZNvjl",
      "include_colab_link": true
    },
    "kernelspec": {
      "name": "python3",
      "display_name": "Python 3"
    },
    "language_info": {
      "name": "python"
    }
  },
  "cells": [
    {
      "cell_type": "markdown",
      "metadata": {
        "id": "view-in-github",
        "colab_type": "text"
      },
      "source": [
        "<a href=\"https://colab.research.google.com/github/rlaehgus5531/22_05_1st_Report/blob/main/Report_1st%2C_.ipynb\" target=\"_parent\"><img src=\"https://colab.research.google.com/assets/colab-badge.svg\" alt=\"Open In Colab\"/></a>"
      ]
    },
    {
      "cell_type": "code",
      "execution_count": 1,
      "metadata": {
        "colab": {
          "base_uri": "https://localhost:8080/"
        },
        "id": "kMEqLJNIInVl",
        "outputId": "c5fa6301-7c68-475b-ad8d-e42b0b0043fd"
      },
      "outputs": [
        {
          "output_type": "stream",
          "name": "stdout",
          "text": [
            "환영합니다\n",
            "파이썬의세계에 오신것을 환영합니다\n",
            "파이썬은 강력합니다\n"
          ]
        }
      ],
      "source": [
        "print(\"환영합니다\")\n",
        "print(\"파이썬의세계에 오신것을 환영합니다\")\n",
        "print(\"파이썬은 강력합니다\")"
      ]
    },
    {
      "cell_type": "code",
      "source": [
        "print(\"반갑습니다 파이썬\")\n",
        "print(2*3/10)\n",
        "print(\"Hello\", \"World\", \" !!!\")"
      ],
      "metadata": {
        "colab": {
          "base_uri": "https://localhost:8080/"
        },
        "id": "pMiMYV4DI700",
        "outputId": "b55d0cc0-6974-47ca-b16e-64357baa9b08"
      },
      "execution_count": 6,
      "outputs": [
        {
          "output_type": "stream",
          "name": "stdout",
          "text": [
            "반갑습니다 파이썬\n",
            "0.6\n",
            "Hello World  !!!\n"
          ]
        }
      ]
    },
    {
      "cell_type": "code",
      "source": [
        "print(7*24)"
      ],
      "metadata": {
        "colab": {
          "base_uri": "https://localhost:8080/"
        },
        "id": "bwGPor2ZJSgZ",
        "outputId": "c865b12b-a4e2-468f-cb1d-e2ea22886824"
      },
      "execution_count": 4,
      "outputs": [
        {
          "output_type": "stream",
          "name": "stdout",
          "text": [
            "168\n"
          ]
        }
      ]
    },
    {
      "cell_type": "code",
      "source": [
        "import turtle\n",
        "t = turtle.Turtle()\n",
        "t.shape(\"turtle\")\n",
        "t.fd(100)\n",
        "t.lt(90)\n",
        "t.fd(100)\n",
        "t.rt(90)\n",
        "t.fd(100)\n",
        "t.rt(90)\n",
        "t.fd(100)\n",
        "t.lt(90)\n",
        "t.fd(100)"
      ],
      "metadata": {
        "id": "rQqY1hoBJYhO"
      },
      "execution_count": null,
      "outputs": []
    }
  ]
}